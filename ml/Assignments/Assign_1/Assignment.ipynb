{
 "cells": [
  {
   "cell_type": "markdown",
   "metadata": {},
   "source": [
    "# Assignment 1\n",
    "\n",
    "Practice Questions"
   ]
  },
  {
   "cell_type": "code",
   "execution_count": 1,
   "metadata": {},
   "outputs": [
    {
     "name": "stdout",
     "output_type": "stream",
     "text": [
      "5\n"
     ]
    }
   ],
   "source": [
    "# Q1\n",
    "t = (1,2,3,4,5,5,6,7,8,9,10)\n",
    "if t[5]%3==0:\n",
    "    print(len(t))\n",
    "else:\n",
    "    print(t[5])"
   ]
  },
  {
   "cell_type": "code",
   "execution_count": 2,
   "metadata": {},
   "outputs": [
    {
     "name": "stdout",
     "output_type": "stream",
     "text": [
      "[1, 2, 2, 2, 3, 3, 4, 5]\n",
      "[1, 4, 5]\n"
     ]
    }
   ],
   "source": [
    "# Q2\n",
    "list1 = list(map(int, input(\"First list: \").split()))\n",
    "list2 = list(map(int, input(\"Second list: \").split()))\n",
    "\n",
    "# a\n",
    "list_a = []\n",
    "for element in list1 + list2:\n",
    "    list_a.append(element)\n",
    "\n",
    "print(sorted(list_a))\n",
    "\n",
    "# b\n",
    "freq = {}\n",
    "for element in list1 + list2:\n",
    "    if element not in freq:\n",
    "        freq[element] = 1\n",
    "    else:\n",
    "        freq[element] += 1\n",
    "\n",
    "list_b = []\n",
    "for key in freq.keys():\n",
    "    if freq[key] == 1:\n",
    "        list_b.append(key)\n",
    "    \n",
    "print(list_b)\n"
   ]
  },
  {
   "cell_type": "code",
   "execution_count": 3,
   "metadata": {},
   "outputs": [
    {
     "name": "stdout",
     "output_type": "stream",
     "text": [
      "max of list:  6\n",
      "min of list:  1\n",
      "average of list:  3.5\n"
     ]
    }
   ],
   "source": [
    "# Q3\n",
    "import math\n",
    "l = list(map(int, input().split()))\n",
    "\n",
    "# max of list\n",
    "maxAns = -math.inf\n",
    "for i in l:\n",
    "    if i > maxAns:\n",
    "        maxAns = i\n",
    "print(\"max of list: \", maxAns)\n",
    "\n",
    "# min of list\n",
    "minAns = math.inf\n",
    "for i in l:\n",
    "    if i < minAns:\n",
    "        minAns = i\n",
    "print(\"min of list: \", minAns)\n",
    "\n",
    "# mean of list\n",
    "average = 0\n",
    "for i in l:\n",
    "    average+=i\n",
    "average /= len(l)\n",
    "print(\"average of list: \", average)"
   ]
  },
  {
   "cell_type": "code",
   "execution_count": null,
   "metadata": {},
   "outputs": [],
   "source": []
  }
 ],
 "metadata": {
  "kernelspec": {
   "display_name": "Python 3.8.13 ('mlp')",
   "language": "python",
   "name": "python3"
  },
  "language_info": {
   "codemirror_mode": {
    "name": "ipython",
    "version": 3
   },
   "file_extension": ".py",
   "mimetype": "text/x-python",
   "name": "python",
   "nbconvert_exporter": "python",
   "pygments_lexer": "ipython3",
   "version": "3.8.13"
  },
  "orig_nbformat": 4,
  "vscode": {
   "interpreter": {
    "hash": "4976e0179d97dd6d59b1329a76e601e17b789c2571b41c8b57f5fd69821c0dd3"
   }
  }
 },
 "nbformat": 4,
 "nbformat_minor": 2
}
