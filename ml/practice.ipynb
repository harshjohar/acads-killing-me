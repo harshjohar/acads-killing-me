{
 "cells": [
  {
   "cell_type": "code",
   "execution_count": 1,
   "id": "a17f6f7b",
   "metadata": {},
   "outputs": [
    {
     "name": "stdout",
     "output_type": "stream",
     "text": [
      "hello harsh\n"
     ]
    }
   ],
   "source": [
    "print(\"hello harsh\")"
   ]
  },
  {
   "cell_type": "markdown",
   "id": "6d51b47a",
   "metadata": {},
   "source": [
    "# Welcome to the world of ML, this sem pls learn this in a good way"
   ]
  },
  {
   "cell_type": "code",
   "execution_count": 2,
   "id": "dbbcda3d",
   "metadata": {},
   "outputs": [],
   "source": [
    "import tensorflow"
   ]
  },
  {
   "cell_type": "code",
   "execution_count": 3,
   "id": "73d72997",
   "metadata": {},
   "outputs": [],
   "source": [
    "import numpy as np"
   ]
  },
  {
   "cell_type": "code",
   "execution_count": 4,
   "id": "6067a9d1",
   "metadata": {},
   "outputs": [],
   "source": [
    "import pandas as pd"
   ]
  },
  {
   "cell_type": "code",
   "execution_count": null,
   "id": "aa83d0df",
   "metadata": {},
   "outputs": [],
   "source": []
  }
 ],
 "metadata": {
  "kernelspec": {
   "display_name": "Python 3 (ipykernel)",
   "language": "python",
   "name": "python3"
  },
  "language_info": {
   "codemirror_mode": {
    "name": "ipython",
    "version": 3
   },
   "file_extension": ".py",
   "mimetype": "text/x-python",
   "name": "python",
   "nbconvert_exporter": "python",
   "pygments_lexer": "ipython3",
   "version": "3.8.13"
  }
 },
 "nbformat": 4,
 "nbformat_minor": 5
}
