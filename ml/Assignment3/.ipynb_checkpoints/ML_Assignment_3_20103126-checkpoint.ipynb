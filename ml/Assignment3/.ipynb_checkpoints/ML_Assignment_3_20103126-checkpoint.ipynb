{
 "cells": [
  {
   "cell_type": "code",
   "execution_count": 1,
   "id": "63d2fa3a",
   "metadata": {},
   "outputs": [],
   "source": [
    "import pandas as pd\n",
    "import numpy as np\n",
    "from sklearn.preprocessing import OneHotEncoder\n",
    "from sklearn.model_selection import train_test_split\n",
    "training = pd.read_csv(\"train.csv\" , delimiter=\",\")\n",
    "testing = pd.read_csv(\"test.csv\" , delimiter=\",\")"
   ]
  },
  {
   "cell_type": "code",
   "execution_count": 2,
   "id": "4a454c99",
   "metadata": {},
   "outputs": [
    {
     "data": {
      "text/plain": [
       "(1460, 1)"
      ]
     },
     "execution_count": 2,
     "metadata": {},
     "output_type": "execute_result"
    }
   ],
   "source": [
    "X = training.iloc[: , 0:79]\n",
    "Y = training.iloc[: , 80]\n",
    "Y = Y.values\n",
    "Y = Y.reshape(-1,1)\n",
    "Y.shape"
   ]
  },
  {
   "cell_type": "code",
   "execution_count": 5,
   "id": "2f1722fd",
   "metadata": {},
   "outputs": [],
   "source": [
    "for i in X.columns : \n",
    "    X[i].fillna(X[i].mode().iloc[0] , inplace = True)"
   ]
  },
  {
   "cell_type": "code",
   "execution_count": 6,
   "id": "34f5bea7",
   "metadata": {},
   "outputs": [],
   "source": [
    "# type(X['Id'][0])\n",
    "ohe = OneHotEncoder()\n",
    "for i in X.columns :\n",
    "    x = type(X[i][0])\n",
    "    y = type(\"str\")\n",
    "    if x == y :\n",
    "        # One Hot Encoding Column\n",
    "        transformed = ohe.fit_transform(X[[i]])\n",
    "        X[ohe.categories_[0]] = transformed.toarray()\n",
    "        X.drop(i,axis = 1,inplace=True)"
   ]
  },
  {
   "cell_type": "code",
   "execution_count": 7,
   "id": "db598ae0",
   "metadata": {},
   "outputs": [],
   "source": [
    "for i in X.columns :\n",
    "    x = type(X[i][0])\n",
    "    y = type(\"str\")\n",
    "    if x == y :\n",
    "        transformed = ohe.fit_transform(X[[i]])\n",
    "        X[ohe.categories_[0]] = transformed.toarray()\n",
    "        X.drop(i,axis = 1,inplace=True)"
   ]
  },
  {
   "cell_type": "code",
   "execution_count": 8,
   "id": "3d852c84",
   "metadata": {},
   "outputs": [],
   "source": [
    "from sklearn.preprocessing import StandardScaler\n",
    "scaler = StandardScaler()\n",
    "X = scaler.fit_transform(X)\n",
    "Y = scaler.fit_transform(Y)"
   ]
  },
  {
   "cell_type": "code",
   "execution_count": 9,
   "id": "e6188d6a",
   "metadata": {},
   "outputs": [
    {
     "name": "stdout",
     "output_type": "stream",
     "text": [
      "[[ 0.34727322]\n",
      " [ 0.00728832]\n",
      " [ 0.53615372]\n",
      " ...\n",
      " [ 1.07761115]\n",
      " [-0.48852299]\n",
      " [-0.42084081]]\n"
     ]
    },
    {
     "data": {
      "text/html": [
       "<div>\n",
       "<style scoped>\n",
       "    .dataframe tbody tr th:only-of-type {\n",
       "        vertical-align: middle;\n",
       "    }\n",
       "\n",
       "    .dataframe tbody tr th {\n",
       "        vertical-align: top;\n",
       "    }\n",
       "\n",
       "    .dataframe thead th {\n",
       "        text-align: right;\n",
       "    }\n",
       "</style>\n",
       "<table border=\"1\" class=\"dataframe\">\n",
       "  <thead>\n",
       "    <tr style=\"text-align: right;\">\n",
       "      <th></th>\n",
       "      <th>0</th>\n",
       "      <th>1</th>\n",
       "      <th>2</th>\n",
       "      <th>3</th>\n",
       "      <th>4</th>\n",
       "      <th>5</th>\n",
       "      <th>6</th>\n",
       "      <th>7</th>\n",
       "      <th>8</th>\n",
       "      <th>9</th>\n",
       "      <th>...</th>\n",
       "      <th>195</th>\n",
       "      <th>196</th>\n",
       "      <th>197</th>\n",
       "      <th>198</th>\n",
       "      <th>199</th>\n",
       "      <th>200</th>\n",
       "      <th>201</th>\n",
       "      <th>202</th>\n",
       "      <th>203</th>\n",
       "      <th>204</th>\n",
       "    </tr>\n",
       "  </thead>\n",
       "  <tbody>\n",
       "    <tr>\n",
       "      <th>0</th>\n",
       "      <td>-1.730865</td>\n",
       "      <td>0.073375</td>\n",
       "      <td>-0.146189</td>\n",
       "      <td>-0.207142</td>\n",
       "      <td>0.651479</td>\n",
       "      <td>-0.517200</td>\n",
       "      <td>1.050994</td>\n",
       "      <td>0.878668</td>\n",
       "      <td>0.514104</td>\n",
       "      <td>0.575425</td>\n",
       "      <td>...</td>\n",
       "      <td>-0.02618</td>\n",
       "      <td>-0.1742</td>\n",
       "      <td>-0.052414</td>\n",
       "      <td>-0.037037</td>\n",
       "      <td>-0.078757</td>\n",
       "      <td>-0.058621</td>\n",
       "      <td>-0.058621</td>\n",
       "      <td>-0.301962</td>\n",
       "      <td>-0.045376</td>\n",
       "      <td>0.390293</td>\n",
       "    </tr>\n",
       "    <tr>\n",
       "      <th>1</th>\n",
       "      <td>-1.728492</td>\n",
       "      <td>-0.872563</td>\n",
       "      <td>0.524992</td>\n",
       "      <td>-0.091886</td>\n",
       "      <td>-0.071836</td>\n",
       "      <td>2.179628</td>\n",
       "      <td>0.156734</td>\n",
       "      <td>-0.429577</td>\n",
       "      <td>-0.570750</td>\n",
       "      <td>1.171992</td>\n",
       "      <td>...</td>\n",
       "      <td>-0.02618</td>\n",
       "      <td>-0.1742</td>\n",
       "      <td>-0.052414</td>\n",
       "      <td>-0.037037</td>\n",
       "      <td>-0.078757</td>\n",
       "      <td>-0.058621</td>\n",
       "      <td>-0.058621</td>\n",
       "      <td>-0.301962</td>\n",
       "      <td>-0.045376</td>\n",
       "      <td>0.390293</td>\n",
       "    </tr>\n",
       "    <tr>\n",
       "      <th>2</th>\n",
       "      <td>-1.726120</td>\n",
       "      <td>0.073375</td>\n",
       "      <td>-0.011953</td>\n",
       "      <td>0.073480</td>\n",
       "      <td>0.651479</td>\n",
       "      <td>-0.517200</td>\n",
       "      <td>0.984752</td>\n",
       "      <td>0.830215</td>\n",
       "      <td>0.325915</td>\n",
       "      <td>0.092907</td>\n",
       "      <td>...</td>\n",
       "      <td>-0.02618</td>\n",
       "      <td>-0.1742</td>\n",
       "      <td>-0.052414</td>\n",
       "      <td>-0.037037</td>\n",
       "      <td>-0.078757</td>\n",
       "      <td>-0.058621</td>\n",
       "      <td>-0.058621</td>\n",
       "      <td>-0.301962</td>\n",
       "      <td>-0.045376</td>\n",
       "      <td>0.390293</td>\n",
       "    </tr>\n",
       "    <tr>\n",
       "      <th>3</th>\n",
       "      <td>-1.723747</td>\n",
       "      <td>0.309859</td>\n",
       "      <td>-0.369915</td>\n",
       "      <td>-0.096897</td>\n",
       "      <td>0.651479</td>\n",
       "      <td>-0.517200</td>\n",
       "      <td>-1.863632</td>\n",
       "      <td>-0.720298</td>\n",
       "      <td>-0.570750</td>\n",
       "      <td>-0.499274</td>\n",
       "      <td>...</td>\n",
       "      <td>-0.02618</td>\n",
       "      <td>-0.1742</td>\n",
       "      <td>-0.052414</td>\n",
       "      <td>-0.037037</td>\n",
       "      <td>-0.078757</td>\n",
       "      <td>-0.058621</td>\n",
       "      <td>-0.058621</td>\n",
       "      <td>-0.301962</td>\n",
       "      <td>-0.045376</td>\n",
       "      <td>0.390293</td>\n",
       "    </tr>\n",
       "    <tr>\n",
       "      <th>4</th>\n",
       "      <td>-1.721374</td>\n",
       "      <td>0.073375</td>\n",
       "      <td>0.703973</td>\n",
       "      <td>0.375148</td>\n",
       "      <td>1.374795</td>\n",
       "      <td>-0.517200</td>\n",
       "      <td>0.951632</td>\n",
       "      <td>0.733308</td>\n",
       "      <td>1.366489</td>\n",
       "      <td>0.463568</td>\n",
       "      <td>...</td>\n",
       "      <td>-0.02618</td>\n",
       "      <td>-0.1742</td>\n",
       "      <td>-0.052414</td>\n",
       "      <td>-0.037037</td>\n",
       "      <td>-0.078757</td>\n",
       "      <td>-0.058621</td>\n",
       "      <td>-0.058621</td>\n",
       "      <td>-0.301962</td>\n",
       "      <td>-0.045376</td>\n",
       "      <td>0.390293</td>\n",
       "    </tr>\n",
       "    <tr>\n",
       "      <th>...</th>\n",
       "      <td>...</td>\n",
       "      <td>...</td>\n",
       "      <td>...</td>\n",
       "      <td>...</td>\n",
       "      <td>...</td>\n",
       "      <td>...</td>\n",
       "      <td>...</td>\n",
       "      <td>...</td>\n",
       "      <td>...</td>\n",
       "      <td>...</td>\n",
       "      <td>...</td>\n",
       "      <td>...</td>\n",
       "      <td>...</td>\n",
       "      <td>...</td>\n",
       "      <td>...</td>\n",
       "      <td>...</td>\n",
       "      <td>...</td>\n",
       "      <td>...</td>\n",
       "      <td>...</td>\n",
       "      <td>...</td>\n",
       "      <td>...</td>\n",
       "    </tr>\n",
       "    <tr>\n",
       "      <th>1455</th>\n",
       "      <td>1.721374</td>\n",
       "      <td>0.073375</td>\n",
       "      <td>-0.280425</td>\n",
       "      <td>-0.260560</td>\n",
       "      <td>-0.071836</td>\n",
       "      <td>-0.517200</td>\n",
       "      <td>0.918511</td>\n",
       "      <td>0.733308</td>\n",
       "      <td>-0.570750</td>\n",
       "      <td>-0.973018</td>\n",
       "      <td>...</td>\n",
       "      <td>-0.02618</td>\n",
       "      <td>-0.1742</td>\n",
       "      <td>-0.052414</td>\n",
       "      <td>-0.037037</td>\n",
       "      <td>-0.078757</td>\n",
       "      <td>-0.058621</td>\n",
       "      <td>-0.058621</td>\n",
       "      <td>-0.301962</td>\n",
       "      <td>-0.045376</td>\n",
       "      <td>0.390293</td>\n",
       "    </tr>\n",
       "    <tr>\n",
       "      <th>1456</th>\n",
       "      <td>1.723747</td>\n",
       "      <td>-0.872563</td>\n",
       "      <td>0.748718</td>\n",
       "      <td>0.266407</td>\n",
       "      <td>-0.071836</td>\n",
       "      <td>0.381743</td>\n",
       "      <td>0.222975</td>\n",
       "      <td>0.151865</td>\n",
       "      <td>0.087911</td>\n",
       "      <td>0.759659</td>\n",
       "      <td>...</td>\n",
       "      <td>-0.02618</td>\n",
       "      <td>-0.1742</td>\n",
       "      <td>-0.052414</td>\n",
       "      <td>-0.037037</td>\n",
       "      <td>-0.078757</td>\n",
       "      <td>-0.058621</td>\n",
       "      <td>-0.058621</td>\n",
       "      <td>-0.301962</td>\n",
       "      <td>-0.045376</td>\n",
       "      <td>0.390293</td>\n",
       "    </tr>\n",
       "    <tr>\n",
       "      <th>1457</th>\n",
       "      <td>1.726120</td>\n",
       "      <td>0.309859</td>\n",
       "      <td>-0.101443</td>\n",
       "      <td>-0.147810</td>\n",
       "      <td>0.651479</td>\n",
       "      <td>3.078570</td>\n",
       "      <td>-1.002492</td>\n",
       "      <td>1.024029</td>\n",
       "      <td>-0.570750</td>\n",
       "      <td>-0.369871</td>\n",
       "      <td>...</td>\n",
       "      <td>-0.02618</td>\n",
       "      <td>-0.1742</td>\n",
       "      <td>-0.052414</td>\n",
       "      <td>-0.037037</td>\n",
       "      <td>-0.078757</td>\n",
       "      <td>-0.058621</td>\n",
       "      <td>-0.058621</td>\n",
       "      <td>-0.301962</td>\n",
       "      <td>-0.045376</td>\n",
       "      <td>0.390293</td>\n",
       "    </tr>\n",
       "    <tr>\n",
       "      <th>1458</th>\n",
       "      <td>1.728492</td>\n",
       "      <td>-0.872563</td>\n",
       "      <td>-0.011953</td>\n",
       "      <td>-0.080160</td>\n",
       "      <td>-0.795151</td>\n",
       "      <td>0.381743</td>\n",
       "      <td>-0.704406</td>\n",
       "      <td>0.539493</td>\n",
       "      <td>-0.570750</td>\n",
       "      <td>-0.865548</td>\n",
       "      <td>...</td>\n",
       "      <td>-0.02618</td>\n",
       "      <td>-0.1742</td>\n",
       "      <td>-0.052414</td>\n",
       "      <td>-0.037037</td>\n",
       "      <td>-0.078757</td>\n",
       "      <td>-0.058621</td>\n",
       "      <td>-0.058621</td>\n",
       "      <td>-0.301962</td>\n",
       "      <td>-0.045376</td>\n",
       "      <td>0.390293</td>\n",
       "    </tr>\n",
       "    <tr>\n",
       "      <th>1459</th>\n",
       "      <td>1.730865</td>\n",
       "      <td>-0.872563</td>\n",
       "      <td>0.301265</td>\n",
       "      <td>-0.058112</td>\n",
       "      <td>-0.795151</td>\n",
       "      <td>0.381743</td>\n",
       "      <td>-0.207594</td>\n",
       "      <td>-0.962566</td>\n",
       "      <td>-0.570750</td>\n",
       "      <td>0.847389</td>\n",
       "      <td>...</td>\n",
       "      <td>-0.02618</td>\n",
       "      <td>-0.1742</td>\n",
       "      <td>-0.052414</td>\n",
       "      <td>-0.037037</td>\n",
       "      <td>-0.078757</td>\n",
       "      <td>-0.058621</td>\n",
       "      <td>-0.058621</td>\n",
       "      <td>-0.301962</td>\n",
       "      <td>-0.045376</td>\n",
       "      <td>0.390293</td>\n",
       "    </tr>\n",
       "  </tbody>\n",
       "</table>\n",
       "<p>1460 rows × 205 columns</p>\n",
       "</div>"
      ],
      "text/plain": [
       "           0         1         2         3         4         5         6    \\\n",
       "0    -1.730865  0.073375 -0.146189 -0.207142  0.651479 -0.517200  1.050994   \n",
       "1    -1.728492 -0.872563  0.524992 -0.091886 -0.071836  2.179628  0.156734   \n",
       "2    -1.726120  0.073375 -0.011953  0.073480  0.651479 -0.517200  0.984752   \n",
       "3    -1.723747  0.309859 -0.369915 -0.096897  0.651479 -0.517200 -1.863632   \n",
       "4    -1.721374  0.073375  0.703973  0.375148  1.374795 -0.517200  0.951632   \n",
       "...        ...       ...       ...       ...       ...       ...       ...   \n",
       "1455  1.721374  0.073375 -0.280425 -0.260560 -0.071836 -0.517200  0.918511   \n",
       "1456  1.723747 -0.872563  0.748718  0.266407 -0.071836  0.381743  0.222975   \n",
       "1457  1.726120  0.309859 -0.101443 -0.147810  0.651479  3.078570 -1.002492   \n",
       "1458  1.728492 -0.872563 -0.011953 -0.080160 -0.795151  0.381743 -0.704406   \n",
       "1459  1.730865 -0.872563  0.301265 -0.058112 -0.795151  0.381743 -0.207594   \n",
       "\n",
       "           7         8         9    ...      195     196       197       198  \\\n",
       "0     0.878668  0.514104  0.575425  ... -0.02618 -0.1742 -0.052414 -0.037037   \n",
       "1    -0.429577 -0.570750  1.171992  ... -0.02618 -0.1742 -0.052414 -0.037037   \n",
       "2     0.830215  0.325915  0.092907  ... -0.02618 -0.1742 -0.052414 -0.037037   \n",
       "3    -0.720298 -0.570750 -0.499274  ... -0.02618 -0.1742 -0.052414 -0.037037   \n",
       "4     0.733308  1.366489  0.463568  ... -0.02618 -0.1742 -0.052414 -0.037037   \n",
       "...        ...       ...       ...  ...      ...     ...       ...       ...   \n",
       "1455  0.733308 -0.570750 -0.973018  ... -0.02618 -0.1742 -0.052414 -0.037037   \n",
       "1456  0.151865  0.087911  0.759659  ... -0.02618 -0.1742 -0.052414 -0.037037   \n",
       "1457  1.024029 -0.570750 -0.369871  ... -0.02618 -0.1742 -0.052414 -0.037037   \n",
       "1458  0.539493 -0.570750 -0.865548  ... -0.02618 -0.1742 -0.052414 -0.037037   \n",
       "1459 -0.962566 -0.570750  0.847389  ... -0.02618 -0.1742 -0.052414 -0.037037   \n",
       "\n",
       "           199       200       201       202       203       204  \n",
       "0    -0.078757 -0.058621 -0.058621 -0.301962 -0.045376  0.390293  \n",
       "1    -0.078757 -0.058621 -0.058621 -0.301962 -0.045376  0.390293  \n",
       "2    -0.078757 -0.058621 -0.058621 -0.301962 -0.045376  0.390293  \n",
       "3    -0.078757 -0.058621 -0.058621 -0.301962 -0.045376  0.390293  \n",
       "4    -0.078757 -0.058621 -0.058621 -0.301962 -0.045376  0.390293  \n",
       "...        ...       ...       ...       ...       ...       ...  \n",
       "1455 -0.078757 -0.058621 -0.058621 -0.301962 -0.045376  0.390293  \n",
       "1456 -0.078757 -0.058621 -0.058621 -0.301962 -0.045376  0.390293  \n",
       "1457 -0.078757 -0.058621 -0.058621 -0.301962 -0.045376  0.390293  \n",
       "1458 -0.078757 -0.058621 -0.058621 -0.301962 -0.045376  0.390293  \n",
       "1459 -0.078757 -0.058621 -0.058621 -0.301962 -0.045376  0.390293  \n",
       "\n",
       "[1460 rows x 205 columns]"
      ]
     },
     "execution_count": 9,
     "metadata": {},
     "output_type": "execute_result"
    }
   ],
   "source": [
    "print(Y)\n",
    "pd.DataFrame(X) "
   ]
  },
  {
   "cell_type": "code",
   "execution_count": 10,
   "id": "47443ed2",
   "metadata": {},
   "outputs": [],
   "source": [
    "x_train, x_test ,y_train , y_test = train_test_split(X,Y) "
   ]
  },
  {
   "cell_type": "code",
   "execution_count": 11,
   "id": "eb2dec4b",
   "metadata": {},
   "outputs": [],
   "source": [
    "def fit(x,y) :\n",
    "    num = (x*y).mean() - x.mean() * y.mean() \n",
    "    den = (x**2).mean() - (x.mean())**2\n",
    "    m = num / den\n",
    "    c = y.mean() - m * x.mean()\n",
    "    return m,c"
   ]
  },
  {
   "cell_type": "code",
   "execution_count": 31,
   "id": "1d0814bd",
   "metadata": {},
   "outputs": [],
   "source": [
    "def predict(x , m , c ) :\n",
    "    return m * x + c \n",
    "\n",
    "def score(y_true , y_pred) :\n",
    "    u = ((y_true - y_pred)**2).sum()\n",
    "    v = ((y_true - y_true.mean())**2).sum()\n",
    "    return 1 - u/v\n",
    "def cost(m,x,y,c) :\n",
    "    return ((y - m*x - c)**2).mean()"
   ]
  },
  {
   "cell_type": "code",
   "execution_count": 16,
   "id": "46a912aa",
   "metadata": {},
   "outputs": [
    {
     "name": "stdout",
     "output_type": "stream",
     "text": [
      "0.04530560678502448 0.0030731113067339545\n"
     ]
    }
   ],
   "source": [
    "m , c = fit(x_train , y_train)\n",
    "print(m,c)"
   ]
  },
  {
   "cell_type": "code",
   "execution_count": 33,
   "id": "b557ce67",
   "metadata": {},
   "outputs": [
    {
     "name": "stdout",
     "output_type": "stream",
     "text": [
      "Score -204.0180058965949\n"
     ]
    }
   ],
   "source": [
    "y_pred = predict(x_test , m , c)\n",
    "sc = score(y_test , y_pred) \n",
    "print(\"Score\" , sc)"
   ]
  },
  {
   "cell_type": "code",
   "execution_count": 34,
   "id": "c6004b9a",
   "metadata": {},
   "outputs": [
    {
     "name": "stdout",
     "output_type": "stream",
     "text": [
      "Cost 0.9228341872582521\n"
     ]
    }
   ],
   "source": [
    "print(\"Cost\" , cost(m, x_test , y_test , c)) "
   ]
  },
  {
   "cell_type": "code",
   "execution_count": 35,
   "id": "d95c8903",
   "metadata": {},
   "outputs": [
    {
     "data": {
      "text/plain": [
       "LinearRegression()"
      ]
     },
     "execution_count": 35,
     "metadata": {},
     "output_type": "execute_result"
    }
   ],
   "source": [
    "from sklearn.linear_model import LinearRegression\n",
    "clf = LinearRegression()\n",
    "clf.fit(x_train , y_train)"
   ]
  },
  {
   "cell_type": "code",
   "execution_count": 36,
   "id": "1c7c14d9",
   "metadata": {},
   "outputs": [],
   "source": [
    "y_pred = clf.predict(x_test)"
   ]
  },
  {
   "cell_type": "code",
   "execution_count": 46,
   "id": "7ec3a40c",
   "metadata": {},
   "outputs": [],
   "source": [
    "sc = clf.score(x_test , y_test)"
   ]
  },
  {
   "cell_type": "code",
   "execution_count": 38,
   "id": "a4e11f49",
   "metadata": {},
   "outputs": [
    {
     "data": {
      "text/plain": [
       "205"
      ]
     },
     "execution_count": 38,
     "metadata": {},
     "output_type": "execute_result"
    }
   ],
   "source": [
    "len(clf.coef_[0])"
   ]
  },
  {
   "cell_type": "code",
   "execution_count": 39,
   "id": "de7e6e7c",
   "metadata": {},
   "outputs": [],
   "source": [
    "def step_gradient(X,Y, learning_rate , m , c) :\n",
    "    m_slope = np.zeros(len(X[0]))\n",
    "    c_slope = 0 \n",
    "    M=len(X)\n",
    "    for i in range(M) :\n",
    "        x = X[i]\n",
    "        y = Y[i]\n",
    "        submis = 0 \n",
    "        for j in range(len(m_slope)):\n",
    "            submis += m[j]*x[j] \n",
    "        for j in range(len(m_slope)) :\n",
    "            m_slope[j] += (-2/M)*(y-submis-c)*x[j]\n",
    "        c_slope += (-2/M)*(y-submis-c)\n",
    "    new_m = m - learning_rate*m_slope\n",
    "    new_c = c - learning_rate*c_slope\n",
    "    print(cost(new_m, X, Y,new_c))\n",
    "    return new_m , new_c ;"
   ]
  },
  {
   "cell_type": "code",
   "execution_count": 40,
   "id": "b8c835ca",
   "metadata": {},
   "outputs": [],
   "source": [
    "def gd(X , Y, learning_rate , nums_iteration ) :\n",
    "    m = np.zeros(len(X[0]))\n",
    "    c = 0\n",
    "    for i in range(nums_iteration) :\n",
    "        m , c = step_gradient(X, Y , learning_rate , m , c )\n",
    "    return m,c"
   ]
  },
  {
   "cell_type": "code",
   "execution_count": 41,
   "id": "ed489203",
   "metadata": {},
   "outputs": [],
   "source": [
    "def run():\n",
    "    learning_rate = 0.000001 \n",
    "    nums_iteration = 10\n",
    "    m , c = gd(x_train , y_train, learning_rate, nums_iteration)\n",
    "    return m,c"
   ]
  },
  {
   "cell_type": "code",
   "execution_count": 42,
   "id": "3030e90f",
   "metadata": {},
   "outputs": [
    {
     "name": "stdout",
     "output_type": "stream",
     "text": [
      "1.0257212199373507\n",
      "1.0257210405502186\n",
      "1.0257208611676278\n",
      "1.0257206817895794\n",
      "1.0257205024160718\n",
      "1.0257203230471061\n",
      "1.0257201436826815\n",
      "1.0257199643227979\n",
      "1.0257197849674549\n",
      "1.0257196056166535\n"
     ]
    }
   ],
   "source": [
    "m , c = run()"
   ]
  },
  {
   "cell_type": "code",
   "execution_count": 44,
   "id": "f8ab1795",
   "metadata": {},
   "outputs": [
    {
     "name": "stdout",
     "output_type": "stream",
     "text": [
      "-204.0180058965949\n",
      "0.9228341872582521\n"
     ]
    }
   ],
   "source": [
    "y_pred = predict(x_test ,m ,c )\n",
    "sc = score(y_test ,y_pred)\n",
    "print(sc)\n",
    "cst = cost(m,x_test,y_test,c)\n",
    "print(cst)"
   ]
  }
 ],
 "metadata": {
  "kernelspec": {
   "display_name": "Python 3 (ipykernel)",
   "language": "python",
   "name": "python3"
  },
  "language_info": {
   "codemirror_mode": {
    "name": "ipython",
    "version": 3
   },
   "file_extension": ".py",
   "mimetype": "text/x-python",
   "name": "python",
   "nbconvert_exporter": "python",
   "pygments_lexer": "ipython3",
   "version": "3.8.13"
  }
 },
 "nbformat": 4,
 "nbformat_minor": 5
}
