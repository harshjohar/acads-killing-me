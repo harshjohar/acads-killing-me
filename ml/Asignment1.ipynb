{
 "cells": [
  {
   "cell_type": "markdown",
   "id": "a86c82f7",
   "metadata": {},
   "source": [
    "# Practice Problems\n",
    "Harshpreet Singh Johar\n",
    "\n",
    "SID: 20103076"
   ]
  },
  {
   "cell_type": "markdown",
   "id": "99899e35",
   "metadata": {},
   "source": [
    "## Q1"
   ]
  },
  {
   "cell_type": "code",
   "execution_count": 1,
   "id": "058cebb2",
   "metadata": {},
   "outputs": [
    {
     "name": "stdout",
     "output_type": "stream",
     "text": [
      "6\n"
     ]
    }
   ],
   "source": [
    "a = (1,2,3,4,5,6,7,8,9,10)\n",
    "if a[5]%3==0:\n",
    "    print(a[5])\n",
    "else:\n",
    "    print(len(a))"
   ]
  },
  {
   "cell_type": "markdown",
   "id": "9f8886c3",
   "metadata": {},
   "source": [
    "## Q2"
   ]
  },
  {
   "cell_type": "code",
   "execution_count": 2,
   "id": "50b4fb93",
   "metadata": {
    "scrolled": true
   },
   "outputs": [
    {
     "name": "stdout",
     "output_type": "stream",
     "text": [
      "First list: 6 7 8 9 3\n",
      "Second list: 2 3 4 5\n"
     ]
    }
   ],
   "source": [
    "list1 = list(map(int, input(\"First list: \").split()))\n",
    "list2 = list(map(int, input(\"Second list: \").split()))"
   ]
  },
  {
   "cell_type": "markdown",
   "id": "2b551a04",
   "metadata": {},
   "source": [
    "### A"
   ]
  },
  {
   "cell_type": "code",
   "execution_count": 3,
   "id": "e99d0ca1",
   "metadata": {},
   "outputs": [
    {
     "name": "stdout",
     "output_type": "stream",
     "text": [
      "[2, 3, 3, 4, 5, 6, 7, 8, 9]\n"
     ]
    }
   ],
   "source": [
    "list_a = []\n",
    "for element in list1 + list2:\n",
    "    list_a.append(element)\n",
    "\n",
    "print(sorted(list_a))"
   ]
  },
  {
   "cell_type": "markdown",
   "id": "1dbb3896",
   "metadata": {},
   "source": [
    "### B"
   ]
  },
  {
   "cell_type": "code",
   "execution_count": 4,
   "id": "5d5b4115",
   "metadata": {},
   "outputs": [
    {
     "name": "stdout",
     "output_type": "stream",
     "text": [
      "[6, 7, 8, 9, 2, 4, 5]\n"
     ]
    }
   ],
   "source": [
    "freq = {}\n",
    "for element in list1 + list2:\n",
    "    if element not in freq:\n",
    "        freq[element] = 1\n",
    "    else:\n",
    "        freq[element] += 1\n",
    "\n",
    "list_b = []\n",
    "for key in freq.keys():\n",
    "    if freq[key] == 1:\n",
    "        list_b.append(key)\n",
    "    \n",
    "print(list_b)"
   ]
  },
  {
   "cell_type": "markdown",
   "id": "7b9c3fa9",
   "metadata": {},
   "source": [
    "## Q3"
   ]
  },
  {
   "cell_type": "code",
   "execution_count": 5,
   "id": "c5a78b4d",
   "metadata": {},
   "outputs": [
    {
     "name": "stdout",
     "output_type": "stream",
     "text": [
      "9 8 5 0 3 2 6 1\n",
      "max of list:  9\n",
      "min of list:  0\n",
      "average of list:  4.25\n"
     ]
    }
   ],
   "source": [
    "import math\n",
    "l = list(map(int, input().split()))\n",
    "\n",
    "# max of list\n",
    "maxAns = -math.inf\n",
    "for i in l:\n",
    "    if i > maxAns:\n",
    "        maxAns = i\n",
    "print(\"max of list: \", maxAns)\n",
    "\n",
    "# min of list\n",
    "minAns = math.inf\n",
    "for i in l:\n",
    "    if i < minAns:\n",
    "        minAns = i\n",
    "print(\"min of list: \", minAns)\n",
    "\n",
    "# mean of list\n",
    "average = 0\n",
    "for i in l:\n",
    "    average+=i\n",
    "average /= len(l)\n",
    "print(\"average of list: \", average)"
   ]
  },
  {
   "cell_type": "code",
   "execution_count": null,
   "id": "07f34646",
   "metadata": {},
   "outputs": [],
   "source": []
  }
 ],
 "metadata": {
  "kernelspec": {
   "display_name": "Python 3 (ipykernel)",
   "language": "python",
   "name": "python3"
  },
  "language_info": {
   "codemirror_mode": {
    "name": "ipython",
    "version": 3
   },
   "file_extension": ".py",
   "mimetype": "text/x-python",
   "name": "python",
   "nbconvert_exporter": "python",
   "pygments_lexer": "ipython3",
   "version": "3.8.13"
  }
 },
 "nbformat": 4,
 "nbformat_minor": 5
}
