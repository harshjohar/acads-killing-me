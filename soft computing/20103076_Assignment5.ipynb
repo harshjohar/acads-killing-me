{
 "cells": [
  {
   "cell_type": "code",
   "execution_count": 1,
   "id": "61c3025b",
   "metadata": {},
   "outputs": [],
   "source": [
    "import numpy as np"
   ]
  },
  {
   "cell_type": "code",
   "execution_count": 2,
   "id": "1ccfd714",
   "metadata": {},
   "outputs": [],
   "source": [
    "def verifyOutputInTraining(x, weight):\n",
    "    y = np.dot(weight.T, x)\n",
    "    y[y < 0] = -1\n",
    "    y[y >= 0] = 1\n",
    "    return np.array(y)\n"
   ]
  },
  {
   "cell_type": "code",
   "execution_count": 3,
   "id": "05d632be",
   "metadata": {},
   "outputs": [],
   "source": [
    "def targetOnOutput(y, weight):\n",
    "    x = np.dot(weight, y)\n",
    "    x[x <= 0] = -1\n",
    "    x[x > 0] = 1\n",
    "    return np.array(x)"
   ]
  },
  {
   "cell_type": "code",
   "execution_count": 6,
   "id": "a82b4520",
   "metadata": {},
   "outputs": [],
   "source": [
    "x1 = np.array([1, 1, 1, 1, 1, 1]).reshape(6, 1)\n",
    "x2 = np.array([-1, -1, -1, -1, -1, -1]).reshape(6, 1)\n",
    "x3 = np.array([1, 1, -1, -1, 1, 1]).reshape(6, 1)\n",
    "x4 = np.array([-1, -1, 1, 1, -1, -1]).reshape(6, 1)\n",
    "\n",
    "y1 = np.array([1, 1, 1]).reshape(3, 1)\n",
    "y2 = np.array([-1, -1, -1]).reshape(3, 1)\n",
    "y3 = np.array([1, -1, 1]).reshape(3, 1)\n",
    "y4 = np.array([-1, 1, -1]).reshape(3, 1)"
   ]
  },
  {
   "cell_type": "code",
   "execution_count": 7,
   "id": "91d23aee",
   "metadata": {},
   "outputs": [],
   "source": [
    "# Calculate weight Matrix: W\n",
    "inputSet = np.concatenate((x1, x2, x3, x4), axis = 1)\n",
    "targetSet = np.concatenate((y1.T, y2.T, y3.T, y4.T), axis = 0)\n",
    "weight = np.dot(inputSet, targetSet)"
   ]
  },
  {
   "cell_type": "code",
   "execution_count": 8,
   "id": "54a1381e",
   "metadata": {},
   "outputs": [
    {
     "name": "stdout",
     "output_type": "stream",
     "text": [
      "Weight matrix: [[4 0 4]\n",
      " [4 0 4]\n",
      " [0 4 0]\n",
      " [0 4 0]\n",
      " [4 0 4]\n",
      " [4 0 4]]\n"
     ]
    }
   ],
   "source": [
    "print(f\"Weight matrix: {weight}\")"
   ]
  },
  {
   "cell_type": "code",
   "execution_count": 9,
   "id": "2f7d125e",
   "metadata": {},
   "outputs": [
    {
     "name": "stdout",
     "output_type": "stream",
     "text": [
      "Testing for input patterns: Set A\n",
      "Output of input pattern 1: [[1]\n",
      " [1]\n",
      " [1]]\n",
      "Output of input pattern 2: [[-1]\n",
      " [-1]\n",
      " [-1]]\n",
      "Output of input pattern 3: [[ 1]\n",
      " [-1]\n",
      " [ 1]]\n",
      "Output of input pattern 4: [[-1]\n",
      " [ 1]\n",
      " [-1]]\n"
     ]
    }
   ],
   "source": [
    "print(\"Testing for input patterns: Set A\")\n",
    "\n",
    "\n",
    "print(f\"Output of input pattern 1: {verifyOutputInTraining(x1, weight)}\")\n",
    "\n",
    "print(f\"Output of input pattern 2: {verifyOutputInTraining(x2, weight)}\")\n",
    "\n",
    "print(f\"Output of input pattern 3: {verifyOutputInTraining(x3, weight)}\")\n",
    "\n",
    "print(f\"Output of input pattern 4: {verifyOutputInTraining(x4, weight)}\")\n"
   ]
  },
  {
   "cell_type": "code",
   "execution_count": 10,
   "id": "b8e35e55",
   "metadata": {},
   "outputs": [
    {
     "name": "stdout",
     "output_type": "stream",
     "text": [
      "Testing for target patterns: Set B\n",
      "Output of target pattern 1: [[1]\n",
      " [1]\n",
      " [1]\n",
      " [1]\n",
      " [1]\n",
      " [1]]\n",
      "Output of target pattern 2: [[-1]\n",
      " [-1]\n",
      " [-1]\n",
      " [-1]\n",
      " [-1]\n",
      " [-1]]\n",
      "Output of target pattern 3: [[ 1]\n",
      " [ 1]\n",
      " [-1]\n",
      " [-1]\n",
      " [ 1]\n",
      " [ 1]]\n",
      "Output of target pattern 4: [[-1]\n",
      " [-1]\n",
      " [ 1]\n",
      " [ 1]\n",
      " [-1]\n",
      " [-1]]\n"
     ]
    }
   ],
   "source": [
    "print(f\"Testing for target patterns: Set B\")\n",
    "\n",
    "print(f\"Output of target pattern 1: {targetOnOutput(y1, weight)}\")\n",
    "\n",
    "print(f\"Output of target pattern 2: {targetOnOutput(y2, weight)}\")\n",
    "\n",
    "print(f\"Output of target pattern 3: {targetOnOutput(y3, weight)}\")\n",
    "\n",
    "print(f\"Output of target pattern 4: {targetOnOutput(y4, weight)}\")\n"
   ]
  }
 ],
 "metadata": {
  "kernelspec": {
   "display_name": "Python 3 (ipykernel)",
   "language": "python",
   "name": "python3"
  },
  "language_info": {
   "codemirror_mode": {
    "name": "ipython",
    "version": 3
   },
   "file_extension": ".py",
   "mimetype": "text/x-python",
   "name": "python",
   "nbconvert_exporter": "python",
   "pygments_lexer": "ipython3",
   "version": "3.8.13"
  }
 },
 "nbformat": 4,
 "nbformat_minor": 5
}
